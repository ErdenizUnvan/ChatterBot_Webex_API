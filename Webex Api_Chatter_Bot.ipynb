{
 "cells": [
  {
   "cell_type": "code",
   "execution_count": null,
   "id": "1e00710a",
   "metadata": {},
   "outputs": [],
   "source": [
    "#https://www.datacamp.com/tutorial/building-a-chatbot-using-chatterbot"
   ]
  },
  {
   "cell_type": "code",
   "execution_count": null,
   "id": "cfde6c58",
   "metadata": {},
   "outputs": [],
   "source": [
    "!pip install chatterbot "
   ]
  },
  {
   "cell_type": "code",
   "execution_count": null,
   "id": "2ebe2051",
   "metadata": {},
   "outputs": [],
   "source": [
    "!pip install chatterbot_corpus"
   ]
  },
  {
   "cell_type": "code",
   "execution_count": null,
   "id": "3cede6d8",
   "metadata": {},
   "outputs": [],
   "source": [
    "from chatterbot import ChatBot\n",
    "bot = ChatBot('Buddy')"
   ]
  },
  {
   "cell_type": "code",
   "execution_count": null,
   "id": "28c8a907",
   "metadata": {},
   "outputs": [],
   "source": [
    "bot = ChatBot(\n",
    "    'Buddy',\n",
    "    storage_adapter='chatterbot.storage.SQLStorageAdapter',\n",
    "    database_uri='sqlite:///database.sqlite3'\n",
    ")"
   ]
  },
  {
   "cell_type": "code",
   "execution_count": null,
   "id": "0c63a4cf",
   "metadata": {},
   "outputs": [],
   "source": [
    "bot = ChatBot(\n",
    "    'Buddy',  \n",
    "    logic_adapters=[\n",
    "        'chatterbot.logic.BestMatch',\n",
    "        'chatterbot.logic.TimeLogicAdapter'],\n",
    ")"
   ]
  },
  {
   "cell_type": "code",
   "execution_count": null,
   "id": "cd3d951c",
   "metadata": {},
   "outputs": [],
   "source": [
    "from chatterbot.trainers import ListTrainer\n",
    "\n",
    "trainer = ListTrainer(bot)\n",
    "\n",
    "trainer.train([\n",
    "'Hi',\n",
    "'Hello',\n",
    "'I need your assistance regarding my order',\n",
    "'Please, Provide me with your order id',\n",
    "'I have a complaint.',\n",
    "'Please elaborate, your concern',\n",
    "'How long it will take to receive an order ?',\n",
    "'An order takes 3-5 Business days to get delivered.',\n",
    "'Okay Thanks',\n",
    "'No Problem! Have a Good Day!'\n",
    "])"
   ]
  },
  {
   "cell_type": "code",
   "execution_count": null,
   "id": "ebeca91e",
   "metadata": {},
   "outputs": [],
   "source": [
    "response = bot.get_response('I have a complaint.')\n",
    "print(f'Bot response: {response}')"
   ]
  },
  {
   "cell_type": "code",
   "execution_count": null,
   "id": "bf23a511",
   "metadata": {},
   "outputs": [],
   "source": [
    "response = bot.get_response('How long it will take to receive an order ?')\n",
    "print(f'Bot response: {response}')"
   ]
  },
  {
   "cell_type": "code",
   "execution_count": null,
   "id": "cfdf4609",
   "metadata": {},
   "outputs": [],
   "source": [
    "response = bot.get_response('I need your assistance regarding my order')\n",
    "print(f'Bot response: {response}')"
   ]
  },
  {
   "cell_type": "code",
   "execution_count": null,
   "id": "1ef66f54",
   "metadata": {},
   "outputs": [],
   "source": [
    "from chatterbot.trainers import ListTrainer\n",
    "from chatterbot import ChatBot\n",
    "\n",
    "bot = ChatBot(\n",
    "    'Buddy',  \n",
    "    logic_adapters=[\n",
    "        'chatterbot.logic.BestMatch',\n",
    "        'chatterbot.logic.TimeLogicAdapter'],\n",
    ")\n",
    "\n",
    "#conv = open('chats.txt','r').readlines()\n",
    "with open('chats.txt') as f:\n",
    "    conversation = f.readlines()\n",
    "    \n",
    "trainer = ListTrainer(bot)\n",
    "\n",
    "trainer.train(conversation)\n",
    "\n",
    "while True:\n",
    "    request = input('You: ')\n",
    "    response = bot.get_response(request)\n",
    "    print('Bot: ', response)"
   ]
  },
  {
   "cell_type": "code",
   "execution_count": null,
   "id": "85b12563",
   "metadata": {},
   "outputs": [],
   "source": [
    "from chatterbot.trainers import ListTrainer\n",
    "from chatterbot import ChatBot\n",
    "\n",
    "bot = ChatBot(\n",
    "    'Buddy',  \n",
    "    logic_adapters=[\n",
    "        'chatterbot.logic.BestMatch',\n",
    "        'chatterbot.logic.TimeLogicAdapter'],\n",
    ")\n",
    "\n",
    "#conv = open('chats.txt','r').readlines()\n",
    "with open('chats.txt') as f:\n",
    "    conversation = f.readlines()\n",
    "    \n",
    "trainer = ListTrainer(bot)\n",
    "\n",
    "trainer.train(conversation)\n",
    "\n",
    "#while True:\n",
    "#    request = input('You: ')\n",
    "#    response = bot.get_response(request)\n",
    "#    print('Bot: ', response)"
   ]
  },
  {
   "cell_type": "code",
   "execution_count": null,
   "id": "55cd687e",
   "metadata": {},
   "outputs": [],
   "source": [
    "chatbot_apikey=''\n",
    "chatbot_apikey"
   ]
  },
  {
   "cell_type": "code",
   "execution_count": null,
   "id": "f6ab4367",
   "metadata": {},
   "outputs": [],
   "source": [
    "sahsi_apikey=''\n",
    "sahsi_apikey"
   ]
  },
  {
   "cell_type": "code",
   "execution_count": null,
   "id": "949edbf1",
   "metadata": {},
   "outputs": [],
   "source": [
    "#benim sahsi hesabimda web.webex.com' da gorunun mesajlarimin room idleri neler ?"
   ]
  },
  {
   "cell_type": "code",
   "execution_count": null,
   "id": "73645190",
   "metadata": {},
   "outputs": [],
   "source": [
    "#https://webexapis.com/v1/rooms"
   ]
  },
  {
   "cell_type": "code",
   "execution_count": null,
   "id": "9fdbc8ca",
   "metadata": {},
   "outputs": [],
   "source": [
    "import requests\n",
    "import urllib3\n",
    "urllib3.disable_warnings(urllib3.exceptions.InsecureRequestWarning)\n",
    "url='https://webexapis.com/v1/rooms'\n",
    "headers={'Authorization':f'Bearer {sahsi_apikey}',\n",
    "        'Content-Type':'application/json'}\n",
    "response = requests.get(url,headers=headers,verify=False)\n",
    "response.json()"
   ]
  },
  {
   "cell_type": "code",
   "execution_count": null,
   "id": "61b169ed",
   "metadata": {},
   "outputs": [],
   "source": [
    "ROOM_ID=''\n",
    "ROOM_ID"
   ]
  },
  {
   "cell_type": "code",
   "execution_count": null,
   "id": "12787668",
   "metadata": {},
   "outputs": [],
   "source": [
    "#roomId"
   ]
  },
  {
   "cell_type": "code",
   "execution_count": null,
   "id": "009b93a1",
   "metadata": {},
   "outputs": [],
   "source": [
    "#https://webexapis.com/v1/messages\n",
    "\n",
    "#LIST MESSAGES\n",
    "#Sahsi hesabimindaki aktif chat botumun oldugu room id'deki mesajlari gorelim\n",
    "\n",
    "import requests\n",
    "import urllib3\n",
    "urllib3.disable_warnings(urllib3.exceptions.InsecureRequestWarning)\n",
    "url='https://webexapis.com/v1/messages'\n",
    "query_params = {'roomId':ROOM_ID}\n",
    "headers={'Authorization':f'Bearer {sahsi_apikey}',\n",
    "        'Content-Type':'application/json'}\n",
    "response = requests.get(url,headers=headers,params=query_params,verify=False)\n",
    "response.json()"
   ]
  },
  {
   "cell_type": "code",
   "execution_count": null,
   "id": "abcfba86",
   "metadata": {},
   "outputs": [],
   "source": [
    "#Send messages to Chat Bot on your behalf from Python\n",
    "\n",
    "import requests\n",
    "import urllib3\n",
    "import json\n",
    "urllib3.disable_warnings(urllib3.exceptions.InsecureRequestWarning)\n",
    "url='https://webexapis.com/v1/messages'\n",
    "payload = {'roomId':ROOM_ID,\n",
    "          'text':'This message is sent by Erdeniz to DevOps Chatbot via Python'}\n",
    "headers={'Authorization':f'Bearer {sahsi_apikey}',\n",
    "        'Content-Type':'application/json'}\n",
    "response = requests.post(url,headers=headers,data=json.dumps(payload),verify=False)\n",
    "response.json()"
   ]
  },
  {
   "cell_type": "code",
   "execution_count": null,
   "id": "d836e7c2",
   "metadata": {},
   "outputs": [],
   "source": [
    "#Send messages to yourself on Chat Bot's  behalf from Python\n",
    "\n",
    "import requests\n",
    "import urllib3\n",
    "import json\n",
    "urllib3.disable_warnings(urllib3.exceptions.InsecureRequestWarning)\n",
    "url='https://webexapis.com/v1/messages'\n",
    "payload = {'roomId':ROOM_ID,\n",
    "          'text':'This message is sent by DevOps Chatbot to Erdeniz via Python as a reply.'}\n",
    "headers={'Authorization':f'Bearer {chatbot_apikey}',\n",
    "        'Content-Type':'application/json'}\n",
    "response = requests.post(url,headers=headers,data=json.dumps(payload),verify=False)\n",
    "response.json()"
   ]
  },
  {
   "cell_type": "code",
   "execution_count": null,
   "id": "eff27b1f",
   "metadata": {},
   "outputs": [],
   "source": [
    "chatbot_email=''\n",
    "chatbot_email"
   ]
  },
  {
   "cell_type": "code",
   "execution_count": null,
   "id": "44a1130b",
   "metadata": {},
   "outputs": [],
   "source": [
    "import requests\n",
    "import urllib3\n",
    "import json\n",
    "import time\n",
    "urllib3.disable_warnings(urllib3.exceptions.InsecureRequestWarning)\n",
    "\n",
    "\n",
    "def list_messages():\n",
    "    url='https://webexapis.com/v1/messages'\n",
    "    query_params = {'roomId':ROOM_ID}\n",
    "    headers={'Authorization':f'Bearer {sahsi_apikey}',\n",
    "            'Content-Type':'application/json'}\n",
    "    response = requests.get(url,headers=headers,params=query_params,verify=False)\n",
    "    return response.json()\n",
    "\n",
    "def send_messages():\n",
    "    url='https://webexapis.com/v1/messages'\n",
    "    request = list_messages()['items'][0]['text']\n",
    "    cevap = bot.get_response(request)\n",
    "    payload = {'roomId':ROOM_ID,\n",
    "              'text':f'{cevap}'}\n",
    "    headers={'Authorization':f'Bearer {chatbot_apikey}',\n",
    "            'Content-Type':'application/json'}\n",
    "    response = requests.post(url,headers=headers,data=json.dumps(payload),verify=False)\n",
    "\n",
    "\n",
    "if __name__ =='__main__':\n",
    "    while True:\n",
    "        print('sleeping...')\n",
    "        time.sleep(1)\n",
    "        last_email = list_messages()['items'][0]['personEmail']\n",
    "        request = list_messages()['items'][0]['text']\n",
    "        if last_email != chatbot_email:\n",
    "            send_messages()\n",
    "            print(f'Message is sent:{response.json()}')\n",
    "            if request =='Goodbye.':\n",
    "                print('Exit')\n",
    "                break\n"
   ]
  },
  {
   "cell_type": "code",
   "execution_count": null,
   "id": "1aa5088f",
   "metadata": {},
   "outputs": [],
   "source": []
  },
  {
   "cell_type": "code",
   "execution_count": null,
   "id": "6a36048c",
   "metadata": {},
   "outputs": [],
   "source": []
  },
  {
   "cell_type": "code",
   "execution_count": null,
   "id": "be438992",
   "metadata": {},
   "outputs": [],
   "source": []
  }
 ],
 "metadata": {
  "kernelspec": {
   "display_name": "Python 3 (ipykernel)",
   "language": "python",
   "name": "python3"
  },
  "language_info": {
   "codemirror_mode": {
    "name": "ipython",
    "version": 3
   },
   "file_extension": ".py",
   "mimetype": "text/x-python",
   "name": "python",
   "nbconvert_exporter": "python",
   "pygments_lexer": "ipython3",
   "version": "3.9.7"
  }
 },
 "nbformat": 4,
 "nbformat_minor": 5
}
